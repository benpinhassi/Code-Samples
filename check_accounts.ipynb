{
 "cells": [
  {
   "cell_type": "markdown",
   "id": "dc9a0e94",
   "metadata": {},
   "source": [
    "### Working in an investment company, I check at the end of every month if there are holdings in the portfolio that account for 2% or more of the total portfolio value, and the total portfolio size is greater than 300M ILS.\n",
    "\n",
    "### There are two CSV files downloaded from the bank system, located in the same folder as this Python file.\n",
    "### We will use Pandas to extract the Data Frame from the CSV files, clean the data, and perform some calculations to obtain the final result.\n",
    "\n",
    "### Finally, a CSV file will be sent to an email address of our choice.\n",
    "<hr>"
   ]
  },
  {
   "cell_type": "code",
   "execution_count": 1,
   "id": "35600bac",
   "metadata": {},
   "outputs": [],
   "source": [
    "import pandas as pd\n",
    "import glob\n",
    "import os\n",
    "import smtplib\n",
    "from email.message import EmailMessage\n",
    "import datetime as dt"
   ]
  },
  {
   "cell_type": "code",
   "execution_count": 2,
   "id": "c546cf82",
   "metadata": {},
   "outputs": [],
   "source": [
    "portfolio_value_file = glob.glob('BAMARIKBAKAR*.csv')\n",
    "holdings_file = glob.glob('KRANOT_ITROT*.csv')"
   ]
  },
  {
   "cell_type": "markdown",
   "id": "05e82faa",
   "metadata": {},
   "source": [
    "###  We want to screen out accounts that are smaller than 300M ILS and accounts with the name 'mehaka' included in their name. Additionally, we want to merge the two data frames into one."
   ]
  },
  {
   "cell_type": "code",
   "execution_count": 3,
   "id": "8868a27c",
   "metadata": {},
   "outputs": [],
   "source": [
    "portfolio_value = pd.read_csv(portfolio_value_file[0], encoding=\"cp1255\",\n",
    "                   usecols=['שם עברי קצר', 'מספר נייר', 'שווי נטו'])"
   ]
  },
  {
   "cell_type": "code",
   "execution_count": 4,
   "id": "22a05c51",
   "metadata": {},
   "outputs": [],
   "source": [
    "portfolio_value.rename(columns = {'מספר נייר' : 'קרן'}, inplace=True)"
   ]
  },
  {
   "cell_type": "code",
   "execution_count": 5,
   "id": "9f1897b6",
   "metadata": {},
   "outputs": [],
   "source": [
    "portfolio_value = portfolio_value[(portfolio_value['שם עברי קצר']!=\"מחקה\") & (portfolio_value[\"שווי נטו\"] > 300000000)]"
   ]
  },
  {
   "cell_type": "code",
   "execution_count": 6,
   "id": "da6cb978",
   "metadata": {},
   "outputs": [],
   "source": [
    "portfolio_holdings = pd.read_csv(holdings_file[0], encoding=\"cp1255\", usecols=['קרן', 'שם קרן', 'מספר נייר',\n",
    "                                                                                     'שם נייר/סוג חשבון', 'סה\"כ ש\"ח'])"
   ]
  },
  {
   "cell_type": "code",
   "execution_count": 7,
   "id": "e618bd2a",
   "metadata": {},
   "outputs": [],
   "source": [
    "data = portfolio_holdings.merge(right=portfolio_value.drop(columns=['שם עברי קצר']), how='left', on='קרן', sort = True)"
   ]
  },
  {
   "cell_type": "markdown",
   "id": "6fabacb9",
   "metadata": {},
   "source": [
    "### Add a column with a calculation of the value of a holding divided by the value of the portfolio. Additionally, we want to screen only holdings that are 2% or higher of the portfolio."
   ]
  },
  {
   "cell_type": "code",
   "execution_count": 8,
   "id": "ba30405b",
   "metadata": {},
   "outputs": [],
   "source": [
    "data['אחוז מהקרן'] = data['סה\"כ ש\"ח']/data['שווי נטו']*100"
   ]
  },
  {
   "cell_type": "code",
   "execution_count": 9,
   "id": "6a72c7f2",
   "metadata": {},
   "outputs": [],
   "source": [
    "data_2 = data[(data[\"אחוז מהקרן\"] > 2.00) & (data['מספר נייר']!=0)].copy()"
   ]
  },
  {
   "cell_type": "code",
   "execution_count": 10,
   "id": "7b33f8eb",
   "metadata": {},
   "outputs": [
    {
     "data": {
      "text/html": [
       "<div>\n",
       "<style scoped>\n",
       "    .dataframe tbody tr th:only-of-type {\n",
       "        vertical-align: middle;\n",
       "    }\n",
       "\n",
       "    .dataframe tbody tr th {\n",
       "        vertical-align: top;\n",
       "    }\n",
       "\n",
       "    .dataframe thead th {\n",
       "        text-align: right;\n",
       "    }\n",
       "</style>\n",
       "<table border=\"1\" class=\"dataframe\">\n",
       "  <thead>\n",
       "    <tr style=\"text-align: right;\">\n",
       "      <th></th>\n",
       "      <th>קרן</th>\n",
       "      <th>שם קרן</th>\n",
       "      <th>מספר נייר</th>\n",
       "      <th>שם נייר/סוג חשבון</th>\n",
       "      <th>סה\"כ ש\"ח</th>\n",
       "      <th>שווי נטו</th>\n",
       "      <th>אחוז מהקרן</th>\n",
       "    </tr>\n",
       "  </thead>\n",
       "  <tbody>\n",
       "    <tr>\n",
       "      <th>12</th>\n",
       "      <td>1142556</td>\n",
       "      <td>חשבון פיקטיבי טכ עילית</td>\n",
       "      <td>69690</td>\n",
       "      <td>NVMI</td>\n",
       "      <td>11516785.73</td>\n",
       "      <td>540024469.0</td>\n",
       "      <td>2.132641</td>\n",
       "    </tr>\n",
       "    <tr>\n",
       "      <th>13</th>\n",
       "      <td>1142556</td>\n",
       "      <td>חשבון פיקטיבי טכ עילית</td>\n",
       "      <td>71670</td>\n",
       "      <td>CAMT</td>\n",
       "      <td>15755045.61</td>\n",
       "      <td>540024469.0</td>\n",
       "      <td>2.917469</td>\n",
       "    </tr>\n",
       "    <tr>\n",
       "      <th>17</th>\n",
       "      <td>1142556</td>\n",
       "      <td>חשבון פיקטיבי טכ עילית</td>\n",
       "      <td>445015</td>\n",
       "      <td>מטריקס</td>\n",
       "      <td>11881737.21</td>\n",
       "      <td>540024469.0</td>\n",
       "      <td>2.200222</td>\n",
       "    </tr>\n",
       "    <tr>\n",
       "      <th>19</th>\n",
       "      <td>1142556</td>\n",
       "      <td>חשבון פיקטיבי טכ עילית</td>\n",
       "      <td>720011</td>\n",
       "      <td>אנלייט אנרגיה</td>\n",
       "      <td>13305257.23</td>\n",
       "      <td>540024469.0</td>\n",
       "      <td>2.463825</td>\n",
       "    </tr>\n",
       "    <tr>\n",
       "      <th>25</th>\n",
       "      <td>1142556</td>\n",
       "      <td>חשבון פיקטיבי טכ עילית</td>\n",
       "      <td>1123355</td>\n",
       "      <td>אנרג'יקס</td>\n",
       "      <td>12313828.80</td>\n",
       "      <td>540024469.0</td>\n",
       "      <td>2.280235</td>\n",
       "    </tr>\n",
       "  </tbody>\n",
       "</table>\n",
       "</div>"
      ],
      "text/plain": [
       "        קרן                  שם קרן  מספר נייר שם נייר/סוג חשבון     סה\"כ ש\"ח  \\\n",
       "12  1142556  חשבון פיקטיבי טכ עילית      69690              NVMI  11516785.73   \n",
       "13  1142556  חשבון פיקטיבי טכ עילית      71670              CAMT  15755045.61   \n",
       "17  1142556  חשבון פיקטיבי טכ עילית     445015            מטריקס  11881737.21   \n",
       "19  1142556  חשבון פיקטיבי טכ עילית     720011     אנלייט אנרגיה  13305257.23   \n",
       "25  1142556  חשבון פיקטיבי טכ עילית    1123355          אנרג'יקס  12313828.80   \n",
       "\n",
       "       שווי נטו  אחוז מהקרן  \n",
       "12  540024469.0    2.132641  \n",
       "13  540024469.0    2.917469  \n",
       "17  540024469.0    2.200222  \n",
       "19  540024469.0    2.463825  \n",
       "25  540024469.0    2.280235  "
      ]
     },
     "execution_count": 10,
     "metadata": {},
     "output_type": "execute_result"
    }
   ],
   "source": [
    "data_2.head()"
   ]
  },
  {
   "cell_type": "markdown",
   "id": "bd63c23e",
   "metadata": {},
   "source": [
    "### Save the file locally and send an email"
   ]
  },
  {
   "cell_type": "code",
   "execution_count": 11,
   "id": "59383722",
   "metadata": {},
   "outputs": [],
   "source": [
    "data_2.to_csv(\"data_2.csv\", encoding=\"cp1255\")"
   ]
  },
  {
   "cell_type": "code",
   "execution_count": 17,
   "id": "741c5b73",
   "metadata": {},
   "outputs": [],
   "source": [
    "os.environ['MY_MAIL'] = 'Your_email'\n",
    "os.environ['MY_PASS'] = 'Your_password'"
   ]
  },
  {
   "cell_type": "code",
   "execution_count": 18,
   "id": "0b3903bc",
   "metadata": {},
   "outputs": [],
   "source": [
    "EMAIL_ADDRESS = os.environ.get(\"MY_MAIL\")\n",
    "EMAIL_PASSWORD = os.environ.get(\"MY_PASS\")"
   ]
  },
  {
   "cell_type": "code",
   "execution_count": 13,
   "id": "3bbd18ad",
   "metadata": {},
   "outputs": [
    {
     "name": "stdout",
     "output_type": "stream",
     "text": [
      "Please insert an Email: some_email@site.com\n"
     ]
    }
   ],
   "source": [
    "to_email = input(\"Please insert an Email: \")"
   ]
  },
  {
   "cell_type": "code",
   "execution_count": 19,
   "id": "25402e9d",
   "metadata": {},
   "outputs": [],
   "source": [
    "now = dt.datetime.now()\n",
    "msg = EmailMessage()\n",
    "msg['Subject'] = 'Holdings above 2% in accounts bigger than 300M'\n",
    "msg['From'] = EMAIL_ADDRESS\n",
    "msg['To'] = to_email\n",
    "msg.set_content(f'Attached is a file containing holdings that are over 2% in accounts larger than 300 million, time sent: {now}')"
   ]
  },
  {
   "cell_type": "code",
   "execution_count": 20,
   "id": "52b6262b",
   "metadata": {},
   "outputs": [],
   "source": [
    "with open('data_2.csv', 'rb') as file:\n",
    "    file_data = file.read()\n",
    "    file_name = file.name\n",
    "    msg.add_attachment(file_data, maintype=\"application\", subtype=\"csv\", filename=file_name)"
   ]
  },
  {
   "cell_type": "code",
   "execution_count": 21,
   "id": "b75917fe",
   "metadata": {},
   "outputs": [
    {
     "name": "stdout",
     "output_type": "stream",
     "text": [
      "File has been sent\n"
     ]
    }
   ],
   "source": [
    "with smtplib.SMTP_SSL(\"smtp.gmail.com\", 465) as connection:\n",
    "    connection.login(user=EMAIL_ADDRESS, password=EMAIL_PASSWORD)\n",
    "    connection.send_message(msg)\n",
    "print(\"File has been sent\")"
   ]
  },
  {
   "cell_type": "code",
   "execution_count": null,
   "id": "bb246c6d",
   "metadata": {},
   "outputs": [],
   "source": []
  }
 ],
 "metadata": {
  "kernelspec": {
   "display_name": "Python 3 (ipykernel)",
   "language": "python",
   "name": "python3"
  },
  "language_info": {
   "codemirror_mode": {
    "name": "ipython",
    "version": 3
   },
   "file_extension": ".py",
   "mimetype": "text/x-python",
   "name": "python",
   "nbconvert_exporter": "python",
   "pygments_lexer": "ipython3",
   "version": "3.11.2"
  }
 },
 "nbformat": 4,
 "nbformat_minor": 5
}
